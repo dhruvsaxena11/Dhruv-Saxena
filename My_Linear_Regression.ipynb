{
  "cells": [
    {
      "cell_type": "markdown",
      "metadata": {
        "id": "view-in-github",
        "colab_type": "text"
      },
      "source": [
        "<a href=\"https://colab.research.google.com/github/dhruvsaxena11/Dhruv-Saxena/blob/My-Data/My_Linear_Regression.ipynb\" target=\"_parent\"><img src=\"https://colab.research.google.com/assets/colab-badge.svg\" alt=\"Open In Colab\"/></a>"
      ]
    },
    {
      "cell_type": "code",
      "execution_count": null,
      "metadata": {
        "colab": {
          "base_uri": "https://localhost:8080/"
        },
        "id": "vzmdzqSnzi4U",
        "outputId": "27b35549-4fb5-4f20-fa89-6518b0835104"
      },
      "outputs": [
        {
          "name": "stdout",
          "output_type": "stream",
          "text": [
            "     cgpa  package\n",
            "0    6.89     3.26\n",
            "1    5.12     1.98\n",
            "2    7.82     3.25\n",
            "3    7.42     3.67\n",
            "4    6.94     3.57\n",
            "..    ...      ...\n",
            "195  6.93     2.46\n",
            "196  5.89     2.57\n",
            "197  7.21     3.24\n",
            "198  7.63     3.96\n",
            "199  6.22     2.33\n",
            "\n",
            "[200 rows x 2 columns]\n"
          ]
        }
      ],
      "source": [
        "import pandas as pd\n",
        "import matplotlib.pyplot as pl\n",
        "a=pd.read_csv(\"https://raw.githubusercontent.com/dhruvsaxena11/Dhruv-Saxena/My-Data/Datasets/placement.csv\")\n",
        "print(a)"
      ]
    },
    {
      "cell_type": "code",
      "execution_count": null,
      "metadata": {
        "colab": {
          "base_uri": "https://localhost:8080/",
          "height": 265
        },
        "id": "LrpqQ2DCz51O",
        "outputId": "e4a7690b-ad83-4e77-a616-c07377847952"
      },
      "outputs": [
        {
          "data": {
            "image/png": "[encoded data removed]",
            "text/plain": [
              "<Figure size 432x288 with 1 Axes>"
            ]
          },
          "metadata": {},
          "output_type": "display_data"
        }
      ],
      "source": [
        "sc=pl.scatter(a.cgpa,a.package)\n",
        "pl.show()"
      ]
    },
    {
      "cell_type": "code",
      "execution_count": null,
      "metadata": {
        "colab": {
          "base_uri": "https://localhost:8080/"
        },
        "id": "u0elzOli3KzP",
        "outputId": "46ab31d6-6a24-42e2-b21b-2e2e2305ebd2"
      },
      "outputs": [
        {
          "name": "stdout",
          "output_type": "stream",
          "text": [
            "     cgpa\n",
            "0    6.89\n",
            "1    5.12\n",
            "2    7.82\n",
            "3    7.42\n",
            "4    6.94\n",
            "..    ...\n",
            "195  6.93\n",
            "196  5.89\n",
            "197  7.21\n",
            "198  7.63\n",
            "199  6.22\n",
            "\n",
            "[200 rows x 1 columns]\n",
            "     package\n",
            "0       3.26\n",
            "1       1.98\n",
            "2       3.25\n",
            "3       3.67\n",
            "4       3.57\n",
            "..       ...\n",
            "195     2.46\n",
            "196     2.57\n",
            "197     3.24\n",
            "198     3.96\n",
            "199     2.33\n",
            "\n",
            "[200 rows x 1 columns]\n"
          ]
        }
      ],
      "source": [
        "from sklearn.model_selection import train_test_split\n",
        "X=a.iloc[0:,0:1]\n",
        "y=a.iloc[0:,1:2]\n",
        "X_train, X_test, y_train, y_test= train_test_split(X,y,test_size=0.2)\n",
        "print(X)\n",
        "print(y)"
      ]
    },
    {
      "cell_type": "code",
      "execution_count": null,
      "metadata": {
        "colab": {
          "base_uri": "https://localhost:8080/"
        },
        "id": "Bhi6HrZ35pKf",
        "outputId": "8bbfb9a3-8d62-4305-d032-d7ee40fc2b91"
      },
      "outputs": [
        {
          "data": {
            "text/plain": [
              "LinearRegression()"
            ]
          },
          "execution_count": 23,
          "metadata": {},
          "output_type": "execute_result"
        }
      ],
      "source": [
        "from sklearn.linear_model import LinearRegression\n",
        "lr=LinearRegression()\n",
        "lr.fit(X_train,y_train)"
      ]
    },
    {
      "cell_type": "code",
      "execution_count": null,
      "metadata": {
        "colab": {
          "background_save": true,
          "base_uri": "https://localhost:8080/"
        },
        "id": "rduWbTAL7MJz",
        "outputId": "248dfb96-334b-47fa-d82e-ed1eb3ee83e6"
      },
      "outputs": [
        {
          "name": "stderr",
          "output_type": "stream",
          "text": [
            "/usr/local/lib/python3.8/dist-packages/sklearn/base.py:450: UserWarning: X does not have valid feature names, but LinearRegression was fitted with feature names\n",
            "  warnings.warn(\n"
          ]
        },
        {
          "data": {
            "text/plain": [
              "0.7744321834717638"
            ]
          },
          "execution_count": 35,
          "metadata": {},
          "output_type": "execute_result"
        }
      ],
      "source": [
        "lr.predict([[10]])\n",
        "lr.score(X_test,y_test)\n"
      ]
    },
    {
      "cell_type": "code",
      "execution_count": null,
      "metadata": {
        "colab": {
          "base_uri": "https://localhost:8080/",
          "height": 513
        },
        "id": "4G6HKUdX7XIR",
        "outputId": "95116b50-642e-4a6d-b269-2baf2ac9477b"
      },
      "outputs": [
        {
          "data": {
            "image/png": "[encoded data removed]",
            "text/plain": [
              "<Figure size 432x288 with 1 Axes>"
            ]
          },
          "metadata": {},
          "output_type": "display_data"
        },
        {
          "data": {
            "image/png": "[encoded data removed]",
            "text/plain": [
              "<Figure size 432x288 with 1 Axes>"
            ]
          },
          "metadata": {},
          "output_type": "display_data"
        }
      ],
      "source": [
        "pl.scatter(X_test,y_test)\n",
        "pl.plot(X_test,lr.predict(X_test),color=\"red\")\n",
        "pl.show()\n",
        "pl.scatter(X_test,y_test)\n",
        "\n",
        "pl.show()"
      ]
    }
  ],
  "metadata": {
    "colab": {
      "provenance": [],
      "authorship_tag": "ABX9TyODL6eAfy1xXIMWapZTJlYD",
      "include_colab_link": true
    },
    "kernelspec": {
      "display_name": "Python 3",
      "name": "python3"
    },
    "language_info": {
      "name": "python"
    }
  },
  "nbformat": 4,
  "nbformat_minor": 0
}