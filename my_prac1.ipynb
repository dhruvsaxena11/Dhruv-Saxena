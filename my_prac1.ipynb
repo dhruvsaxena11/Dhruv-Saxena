{
  "nbformat": 4,
  "nbformat_minor": 0,
  "metadata": {
    "colab": {
      "provenance": [],
      "collapsed_sections": [],
      "authorship_tag": "ABX9TyPaNW0RSgOVSu59JGjz17j1",
      "include_colab_link": true
    },
    "kernelspec": {
      "name": "python3",
      "display_name": "Python 3"
    },
    "language_info": {
      "name": "python"
    }
  },
  "cells": [
    {
      "cell_type": "markdown",
      "metadata": {
        "id": "view-in-github",
        "colab_type": "text"
      },
      "source": [
        "<a href=\"https://colab.research.google.com/github/dhruvsaxena11/Dhruv-Saxena/blob/My-Data/my_prac1.ipynb\" target=\"_parent\"><img src=\"https://colab.research.google.com/assets/colab-badge.svg\" alt=\"Open In Colab\"/></a>"
      ]
    },
    {
      "cell_type": "code",
      "execution_count": null,
      "metadata": {
        "colab": {
          "base_uri": "https://localhost:8080/"
        },
        "id": "vITEocKVtAnu",
        "outputId": "82dce5d5-0013-40da-cdcf-dca326f5dccc"
      },
      "outputs": [
        {
          "output_type": "stream",
          "name": "stdout",
          "text": [
            "nameappy\n",
            "class8\n",
            "enter the marks 110\n",
            "enter the marks 290\n",
            "appy 8\n",
            "10\n",
            "F\n",
            "status :- FAIL\n",
            "90\n",
            "A\n",
            "status :- PASS\n",
            "y0u are fail\n"
          ]
        }
      ],
      "source": [
        "a=input(\"name\")\n",
        "b=int(input(\"class\"))\n",
        "c=int(input(\"enter the marks 1\"))\n",
        "d=int(input(\"enter the marks 2\"))\n",
        "print(a,b)\n",
        "if c>=75:\n",
        "  print(c)\n",
        "  print(\"A\")\n",
        "  print(\"status :- PASS\")\n",
        "if 50<=c<75:\n",
        "  print(c)\n",
        "  print(\"B\")\n",
        "  print(\"status :- PASS\")\n",
        "if 40<=c<50:\n",
        "  print(c)\n",
        "  print(\"C\")\n",
        "  print(\"status :- PASS\")\n",
        "\n",
        "if c<40:\n",
        "  print(c)\n",
        "  print(\"F\")\n",
        "  print(\"status :- FAIL\")\n",
        "if d>=75:\n",
        "  print(d)\n",
        "  print(\"A\")\n",
        "  print(\"status :- PASS\")\n",
        "if 50<=d<75:\n",
        "  print(d)\n",
        "  print(\"B\")\n",
        "  print(\"status :- PASS\")\n",
        "if 40<=d<50:\n",
        "  print(d)\n",
        "  print(\"C\")\n",
        "  print(\"status :- PASS\")\n",
        "\n",
        "if d<40:\n",
        "  print(d)\n",
        "  print(\"F\")\n",
        "  print(\"status :- FAIL\")\n",
        "\n",
        "\n",
        "if c<40 or d<40:\n",
        "  print(\"y0u are fail\")\n",
        "\n"
      ]
    },
    {
      "cell_type": "code",
      "source": [
        "import pandas as pd\n",
        "import matplotlib.pyplot as pl\n",
        "\n",
        "\n",
        "a=[1,2,3,4]\n",
        "b=[2,4,6,8]\n",
        "abc=pl.plot(b,a)\n",
        "pl.savefig(\"ans2.png\")\n",
        "pl.show()\n"
      ],
      "metadata": {
        "id": "YmRE0uy9XDMX",
        "outputId": "740fee06-6d70-4fd8-9dd0-09934a3c563a",
        "colab": {
          "base_uri": "https://localhost:8080/",
          "height": 265
        }
      },
      "execution_count": 1,
      "outputs": [
        {
          "output_type": "display_data",
          "data": {
            "text/plain": [
              "<Figure size 432x288 with 1 Axes>"
            ],
            "image/png": "[encoded data removed]"
          },
          "metadata": {
            "needs_background": "light"
          }
        }
      ]
    },
    {
      "cell_type": "code",
      "source": [
        "a=list(map(int,input(\"enter the array\").split()))\n",
        "b=len(a)\n",
        "for x in range(b-1):\n",
        "  for y in range(b):\n",
        "    if a[x]>a[y]:\n",
        "      m=a[x]\n",
        "      a[x]=a[y]\n",
        "      a[y]=m\n",
        "\n",
        "      \n",
        "\n",
        "\n",
        "\n",
        "    "
      ],
      "metadata": {
        "colab": {
          "base_uri": "https://localhost:8080/"
        },
        "id": "mxDbifLFRYop",
        "outputId": "39e528e1-f2fc-4249-cfd7-aa81cbdb3fc0"
      },
      "execution_count": null,
      "outputs": [
        {
          "output_type": "stream",
          "name": "stdout",
          "text": [
            "enter the array1 3 2 4\n",
            "[1, 2, 3, 4]\n"
          ]
        }
      ]
    },
    {
      "cell_type": "code",
      "source": [
        "a=[1,5,4,7]\n",
        "for x in range(len(a)):\n",
        "  for y in range(len(a)):\n",
        "    if a[x]>a[y]:\n",
        "      \n",
        "  \n",
        "      \n",
        "  print(a[x])\n",
        "   "
      ],
      "metadata": {
        "colab": {
          "base_uri": "https://localhost:8080/"
        },
        "id": "29gcemZKX0E0",
        "outputId": "63b1bb78-3d28-4096-9c38-f10cfd950330"
      },
      "execution_count": null,
      "outputs": [
        {
          "output_type": "stream",
          "name": "stdout",
          "text": [
            "1\n",
            "5\n",
            "4\n",
            "7\n"
          ]
        }
      ]
    },
    {
      "cell_type": "code",
      "source": [
        "a1=list(map(int,input().split()))\n",
        "n1=int(input(\"Enter the Number to be found :\"))\n",
        "if n1 in a1:\n",
        "  print(\"True\")\n",
        "else:\n",
        "  print(\"False\")"
      ],
      "metadata": {
        "colab": {
          "base_uri": "https://localhost:8080/"
        },
        "id": "um3ba2Yo8Q1_",
        "outputId": "fa9bd6ca-0d3b-4863-c69a-5ad1d00a9d75"
      },
      "execution_count": null,
      "outputs": [
        {
          "output_type": "stream",
          "name": "stdout",
          "text": [
            "3 5 7 9\n",
            "Enter the Number to be found :10\n",
            "False\n"
          ]
        }
      ]
    },
    {
      "cell_type": "code",
      "source": [
        "def linear(a,n):\n",
        "    for x in a:\n",
        "        if x==n:\n",
        "          return True\n",
        "    \n",
        "    return False\n",
        "        \n",
        "a1=list(map(int,input().split()))\n",
        "n1=int(input(\"Enter the Number to be found :\"))\n",
        "ans=linear(a1,n1)\n",
        "print(ans)"
      ],
      "metadata": {
        "colab": {
          "base_uri": "https://localhost:8080/"
        },
        "id": "SYgicS3J408t",
        "outputId": "d8172b37-1c58-4fea-a0cc-fb18df7f2908"
      },
      "execution_count": null,
      "outputs": [
        {
          "output_type": "stream",
          "name": "stdout",
          "text": [
            "1 2 3 4\n",
            "Enter the Number to be found :4\n",
            "True\n"
          ]
        }
      ]
    },
    {
      "cell_type": "code",
      "source": [],
      "metadata": {
        "id": "H2Pkm1IZwYoo"
      },
      "execution_count": null,
      "outputs": []
    },
    {
      "cell_type": "code",
      "source": [
        "x=int(input(\"enter the passangers\"))\n",
        "print(\"from S to A\",x)\n",
        "y=x-10+12\n",
        "print(\"from A to B\",y)\n",
        "z=y-10+15\n",
        "print(\"from B to C\",z)\n",
        "w=z-2+5\n",
        "print(\"from C to D\",w)\n",
        "q=w-22+28\n",
        "print(\"from D to E\",q)\n",
        "r=q-7+15\n",
        "print(\"At T\",r)"
      ],
      "metadata": {
        "colab": {
          "base_uri": "https://localhost:8080/"
        },
        "id": "LZq8mqBGO47c",
        "outputId": "bd23f89f-d710-4c68-d82c-511f569c5ae9"
      },
      "execution_count": null,
      "outputs": [
        {
          "output_type": "stream",
          "name": "stdout",
          "text": [
            "enter the passangers15\n",
            "from S to A 15\n",
            "from A to B 17\n",
            "from B to C 22\n",
            "from C to D 25\n",
            "from D to E 31\n",
            "At T 39\n"
          ]
        }
      ]
    },
    {
      "cell_type": "code",
      "source": [
        "x=int(input(\"enter the units\"))\n",
        "if x<50:\n",
        "  print(\"Electricity Bill\", (x*2.60)+25)\n",
        "elif 50<=x<100:\n",
        "  print(\"Electricity Bill\", (x*3.25)+35)\n",
        "elif 100<=x<200:\n",
        "  print(\"Electricity Bill\", (x*5.26)+45)\n",
        "elif x>=200:\n",
        "  print(\"Electricity Bill\", (x*8.45)+75)"
      ],
      "metadata": {
        "colab": {
          "base_uri": "https://localhost:8080/"
        },
        "id": "eWGTM4Wj__Z2",
        "outputId": "921deeec-ecbc-4bfc-976d-193a1be7376a"
      },
      "execution_count": null,
      "outputs": [
        {
          "output_type": "stream",
          "name": "stdout",
          "text": [
            "enter the units56\n",
            "Electricity Bill 217.0\n"
          ]
        }
      ]
    },
    {
      "cell_type": "code",
      "source": [
        "a=input(\"enter\")\n",
        "b=a.split()\n",
        "print(b)\n",
        "for x in range(len(b)):\n",
        "  print(b[len(b)-1-x])"
      ],
      "metadata": {
        "colab": {
          "base_uri": "https://localhost:8080/"
        },
        "id": "ukRaftY3GG4B",
        "outputId": "bdcf5222-b113-485e-dd3d-48e4803685f9"
      },
      "execution_count": null,
      "outputs": [
        {
          "output_type": "stream",
          "name": "stdout",
          "text": [
            "entertanmay is my boy\n",
            "['tanmay', 'is', 'my', 'boy']\n",
            "boy\n",
            "my\n",
            "is\n",
            "tanmay\n"
          ]
        }
      ]
    },
    {
      "cell_type": "code",
      "source": [
        "passenger = int(input(\"ENter the number of passengers boarding : \"))\n",
        "\n",
        "print(f\"The passengers travelling from S to A are :\",passenger)\n",
        "passenger=passenger-10+12\n",
        "print(f\"The passengers travelling from A to B are :\",passenger)\n",
        "passenger=passenger-10+15\n",
        "print(\"The passengers travelling from B to C are :\",passenger)\n",
        "passenger=passenger+5-2\n",
        "print(\"The passengers travelling from C to D are :\",passenger)\n",
        "passenger=passenger-22+28\n",
        "print(\"The passengers travelling from D to E are :\",passenger)\n",
        "passenger=passenger+15-7\n",
        "print(\"The passengers travelling from E to T are :\",passenger)"
      ],
      "metadata": {
        "colab": {
          "base_uri": "https://localhost:8080/"
        },
        "id": "PDLJ36WsJ_2c",
        "outputId": "093826b1-ad9f-4e5e-d644-2d24495f333c"
      },
      "execution_count": null,
      "outputs": [
        {
          "output_type": "stream",
          "name": "stdout",
          "text": [
            "ENter the number of passengers boarding : 15\n",
            "The passengers travelling from S to A are : 15\n",
            "The passengers travelling from A to B are : 17\n",
            "The passengers travelling from B to C are : 22\n",
            "The passengers travelling from C to D are : 25\n",
            "The passengers travelling from D to E are : 31\n",
            "The passengers travelling from E to T are : 39\n"
          ]
        }
      ]
    },
    {
      "cell_type": "code",
      "source": [
        "#Question 1\n",
        "\n",
        "a=int(input(\"enter the first number\"))\n",
        "b=int(input(\"enter the second number\"))\n",
        "print(\"a+b :\",a+b)\n",
        "print(\"a-b :\",a-b)\n",
        "print(\"a*b :\",a*b)\n",
        "print(\"a/b :\",a/b)\n",
        "print(\"a//b :\",a//b)\n",
        "print(\"a mod b :\",a%b)\n",
        "print(\"a^b :\",a**b)\n",
        "\n",
        "print(\"Dhruv Saxena IT(AIR) First Year (Second Semester)\")"
      ],
      "metadata": {
        "id": "wBlLOxqrwbKs",
        "colab": {
          "base_uri": "https://localhost:8080/"
        },
        "outputId": "3f5c09d1-984b-4062-c686-79d75b43f95c"
      },
      "execution_count": null,
      "outputs": [
        {
          "output_type": "stream",
          "name": "stdout",
          "text": [
            "enter the first number9\n",
            "enter the second number4\n",
            "a+b : 13\n",
            "a-b : 5\n",
            "a*b : 36\n",
            "a/b : 2.25\n",
            "a//b : 2\n",
            "a mod b : 1\n",
            "a^b : 6561\n",
            "Dhruv Saxena IT(AIR) First Year (Second Semester)\n"
          ]
        }
      ]
    },
    {
      "cell_type": "code",
      "source": [
        "#Question 2\n",
        "a=int(input(\"enter the population\"))\n",
        "print((a*25/100)*30/100)\n",
        "print(\"Dhruv Saxena IT(AIR) First Year (Second Semester)\")"
      ],
      "metadata": {
        "colab": {
          "base_uri": "https://localhost:8080/"
        },
        "id": "vO3IYpTJN5Zb",
        "outputId": "9529a8c8-023f-4658-f65b-6fd20ced2eb0"
      },
      "execution_count": null,
      "outputs": [
        {
          "output_type": "stream",
          "name": "stdout",
          "text": [
            "enter the population800000\n",
            "60000.0\n",
            "Dhruv Saxena IT(AIR) First Year (Second Semester)\n"
          ]
        }
      ]
    },
    {
      "cell_type": "code",
      "source": [
        "#Question 3\n",
        "a=int(input(\"Enter the No of taps\"))\n",
        "b=int(input(\"Enter the No of hours per day\"))\n",
        "c=int(input(\"Enter the No of total Days\"))\n",
        "d=int(input(\"Enter the No of hrs per day\"))\n",
        "e=int(input(\"Enter the No of total days\"))\n",
        "print(int((a/(b*c))*d*e))\n",
        "print(\"Dhruv Saxena IT(AIR) First Year (Second Semester)\")"
      ],
      "metadata": {
        "colab": {
          "base_uri": "https://localhost:8080/"
        },
        "id": "bVSb5m7QSeO4",
        "outputId": "85256406-abdf-4862-b099-865cc6c01605"
      },
      "execution_count": null,
      "outputs": [
        {
          "output_type": "stream",
          "name": "stdout",
          "text": [
            "Enter the No of taps9\n",
            "Enter the No of hours per day8\n",
            "Enter the No of total Days20\n",
            "Enter the No of hrs per day6\n",
            "Enter the No of total days16\n",
            "5\n",
            "Dhruv Saxena IT(AIR) First Year (Second Semester)\n"
          ]
        }
      ]
    },
    {
      "cell_type": "code",
      "source": [
        "#Question 4\n",
        "a=int(input(\"Enter marks of Ram as in the grade sheet: \"))\n",
        "b=int(input(\"Enter marks of Sam as in the grade sheet: \"))\n",
        "a,b=b,a\n",
        "print(\"The correct marks of Ram: \",a)\n",
        "print(\"The correct marks of Sam: \",b)\n",
        "print(\"Dhruv Saxena IT(AIR) First Year (Second Semester)\")"
      ],
      "metadata": {
        "colab": {
          "base_uri": "https://localhost:8080/"
        },
        "id": "dI9l7e8qUZoH",
        "outputId": "7944e236-3549-4ea1-fc40-4653c8d65019"
      },
      "execution_count": null,
      "outputs": [
        {
          "output_type": "stream",
          "name": "stdout",
          "text": [
            "Enter marks of Ram as in the grade sheet: 85\n",
            "Enter marks of Sam as in the grade sheet: 65\n",
            "The correct marks of Ram:  65\n",
            "The correct marks of Sam:  85\n",
            "Dhruv Saxena IT(AIR) First Year (Second Semester)\n"
          ]
        }
      ]
    },
    {
      "cell_type": "code",
      "source": [
        "#Question 5\n",
        "a=input(\"R_class =\")\n",
        "b=input(\"S_class =\")\n",
        "c=int(input(\"R_Age =\"))\n",
        "d=int(input(\"S_Age =\"))\n",
        "e=int(input(\"R_math =\"))\n",
        "f=int(input(\"S_math =\"))\n",
        "g=int(input(\"R_science =\"))\n",
        "h=int(input(\"S_science =\"))\n",
        "print(\"Both are in same class ? \",a==b)\n",
        "print(\"Both are of different age ? \",c!=d)\n",
        "print(\"Ram score more than Shyam in Math ?\",e>f)\n",
        "print(\"Ram score less than Shyam in Science ? \",g<h)\n",
        "print(\"Ram score more or equal than Shyam in Math?\",e>=f)\n",
        "print(\"Dhruv Saxena IT(AIR) First Year (Second Semester)\")"
      ],
      "metadata": {
        "colab": {
          "base_uri": "https://localhost:8080/"
        },
        "id": "gwsEeF3GVNLt",
        "outputId": "9e1b3479-d169-4704-edd4-2c33e197f9e8"
      },
      "execution_count": null,
      "outputs": [
        {
          "output_type": "stream",
          "name": "stdout",
          "text": [
            "R_class =XII\n",
            "S_class =XII\n",
            "R_Age =18\n",
            "S_Age =19\n",
            "R_math =80\n",
            "S_math =90\n",
            "R_science =85\n",
            "S_science =92\n",
            "Both are in same class ?  True\n",
            "Both are of different age ?  True\n",
            "Ram score more than Shyam in Math ? False\n",
            "Ram score less than Shyam in Science ?  True\n",
            "Ram score more or equal than Shyam in Math? False\n",
            "Dhruv Saxena IT(AIR) First Year (Second Semester)\n"
          ]
        }
      ]
    },
    {
      "cell_type": "code",
      "source": [
        "#Question 6\n",
        "a=input(\"Father Says : \")\n",
        "b=int(input(\"Age: \"))\n",
        "c=int(input(\"Married\"))\n",
        "if(a==\"yes\" and b>=18 and c==0):\n",
        "  print(\"True\")\n",
        "else:\n",
        "  print(\"False\")\n",
        "print(\"Dhruv Saxena IT(AIR) First Year (Second Semester)\")"
      ],
      "metadata": {
        "colab": {
          "base_uri": "https://localhost:8080/"
        },
        "id": "h72NMoLDZJkx",
        "outputId": "668d7085-b5b5-428d-ff6a-3ab3c122a338"
      },
      "execution_count": null,
      "outputs": [
        {
          "output_type": "stream",
          "name": "stdout",
          "text": [
            "Father Says : yes\n",
            "Age: 18\n",
            "Married0\n",
            "True\n",
            "Dhruv Saxena IT(AIR) First Year (Second Semester)\n"
          ]
        }
      ]
    },
    {
      "cell_type": "code",
      "source": [
        "N1=int(input(\"enter the first number  \"))\n",
        "N2=int(input(\"enter the second number  \"))\n",
        "if N1|N2==N1 or N1|N2==N2:\n",
        "  print(\"Yes\")\n",
        "else:\n",
        "  print(\"No\")"
      ],
      "metadata": {
        "colab": {
          "base_uri": "https://localhost:8080/"
        },
        "id": "4-ZYXjoxY4SC",
        "outputId": "4ab03c95-aed4-426f-a0f2-3ba4083027ff"
      },
      "execution_count": null,
      "outputs": [
        {
          "output_type": "stream",
          "name": "stdout",
          "text": [
            "enter the first number  5\n",
            "enter the second number  5\n",
            "Yes\n"
          ]
        }
      ]
    },
    {
      "cell_type": "code",
      "source": [
        "a=int(input(\"enter the numbers\"))\n",
        "b=int(input(\"enter the numbers\"))\n",
        "c=int(input(\"enter the numbers\"))\n",
        "if a>b and a>c:\n",
        "  print(\"greater\", a)\n",
        "elif b>a and b>c:\n",
        "  print(\"greater \", b)\n",
        "else:\n",
        "  print(\"greater\", c)"
      ],
      "metadata": {
        "colab": {
          "base_uri": "https://localhost:8080/"
        },
        "id": "Dt7EH-Ge8ZCJ",
        "outputId": "e5936311-077f-41f3-f699-6e922fc8ea2f"
      },
      "execution_count": null,
      "outputs": [
        {
          "output_type": "stream",
          "name": "stdout",
          "text": [
            "enter the numbers11\n",
            "enter the numbers11\n",
            "enter the numbers11\n",
            "greater 11\n"
          ]
        }
      ]
    },
    {
      "cell_type": "code",
      "source": [
        "a=input(\"enter the 4 digit number \")\n",
        "sum=0\n",
        "for x in a:\n",
        "  sum+=int(x)\n",
        "if sum>12:\n",
        "  print(\"Chulbul agree for the number? True\")\n",
        "else:\n",
        "  print(\"Chulbul agree for the number? False\")\n",
        "print(\"Dhruv Saxena IT(AIR) First Year (Second Semester)\")"
      ],
      "metadata": {
        "colab": {
          "base_uri": "https://localhost:8080/"
        },
        "id": "7J8vpFn2QWO6",
        "outputId": "89a513ca-77e0-4d98-888f-30f7387e6120"
      },
      "execution_count": null,
      "outputs": [
        {
          "output_type": "stream",
          "name": "stdout",
          "text": [
            "enter the 4 digit number 4535\n",
            "Chulbul agree for the number? True\n",
            "Dhruv Saxena IT(AIR) First Year (Second Semester)\n"
          ]
        }
      ]
    },
    {
      "cell_type": "code",
      "source": [
        "x=int(input(\"enter the positive number\"))\n",
        "print(\"Is X divided by 2: \",x%2==0)\n",
        "print(\"Is X divided by 3: \",x%3==0)\n",
        "print(\"Is X lesser than 50:  \",x<50)\n",
        "print(\"Is x not equal to 51: \",x!=51)"
      ],
      "metadata": {
        "colab": {
          "base_uri": "https://localhost:8080/"
        },
        "id": "Kq1eYed4Uxyi",
        "outputId": "148cdc43-8792-4062-d185-faf0927b1f91"
      },
      "execution_count": null,
      "outputs": [
        {
          "output_type": "stream",
          "name": "stdout",
          "text": [
            "enter the positive number42\n",
            "Is X divided by 2:  True\n",
            "Is X divided by 3:  True\n",
            "Is X lesser than 50:   True\n",
            "Is x not equal to 51:  True\n"
          ]
        }
      ]
    },
    {
      "cell_type": "code",
      "source": [
        "a=input(\" Dhoni completed his home work: yes/no\")\n",
        "b=input(\"Dhoni cleaned his room:yes/no\")\n",
        "c=input(\"Dhoni had lunch: yes/no\")\n",
        "if a==\"yes\" or b==\"no\" and c==\"yes\":\n",
        "  print(\"True\")\n",
        "elif a==\"no\" or b==\"no\" and c==\"yes\":\n",
        "  print(\"False\")\n",
        "elif a==\"no\" or b==\"yes\" and c==\"no\":\n",
        "  print(\"False\")\n",
        "elif a==\"yes\" or b==\"no\" and c==\"no\":\n",
        "  print(\"False\")\n",
        "elif a==\"yes\" and b==\"yes\" or c==\"yes\":\n",
        "  print(\"True\")\n",
        "elif a==\"no\" and b==\"no\" or c==\"no\":\n",
        "  print(\"False\")"
      ],
      "metadata": {
        "colab": {
          "base_uri": "https://localhost:8080/"
        },
        "id": "ggHzC5CcW_ti",
        "outputId": "87ed1cf6-6db2-486b-fe49-0578b6fcd8d0"
      },
      "execution_count": null,
      "outputs": [
        {
          "output_type": "stream",
          "name": "stdout",
          "text": [
            " Dhoni completed his home work: yes/noyes\n",
            "Dhoni cleaned his room:yes/nono\n",
            "Dhoni had lunch: yes/noyes\n",
            "True\n"
          ]
        }
      ]
    },
    {
      "cell_type": "code",
      "source": [
        "a=input(\"enter the number\")\n",
        "m=0\n",
        "for x in a:\n",
        "  x=int(x)**3\n",
        "  m+=x\n",
        "if m==int(a):\n",
        "  print(\"True\")\n",
        "else:\n",
        "  print(\"False\")\n",
        "print(\"Dhruv Saxena IT(AIR) First Year (Second Semester)\")\n"
      ],
      "metadata": {
        "colab": {
          "base_uri": "https://localhost:8080/"
        },
        "id": "kf5BxC5HdWCx",
        "outputId": "5163f1b5-e4f5-4332-e925-7b0a5efc0fec"
      },
      "execution_count": null,
      "outputs": [
        {
          "output_type": "stream",
          "name": "stdout",
          "text": [
            "enter the number407\n",
            "True\n",
            "Dhruv Saxena IT(AIR) First Year (Second Semester)\n"
          ]
        }
      ]
    },
    {
      "cell_type": "code",
      "source": [
        "a=int(input())\n",
        "b=int(input())\n",
        "c=int(input())\n",
        "d=int(input())\n",
        "e=int(input())\n",
        "f=a+b+c+d+e\n",
        "print(\"Total Marks\",f)\n",
        "p=(f/500)*100\n",
        "print(\"Percentage\",p)\n",
        "print(\"Grade:\",end='')\n",
        "if p>90:\n",
        "  print(\"A\")\n",
        "elif 81<p<=90:\n",
        "  print(\"B\")\n",
        "elif 71<p<=80:\n",
        "  print(\"C\")\n",
        "elif 61<p<=70:\n",
        "  print(\"D\")\n",
        "elif 40<p<=60:\n",
        "  print(\"E\")\n",
        "else:\n",
        "  print(\"Fail\")\n",
        "print(\"Dhruv Saxena IT(AIR) First Year (Second Semester)\")"
      ],
      "metadata": {
        "colab": {
          "base_uri": "https://localhost:8080/"
        },
        "id": "gnx3buKsghSB",
        "outputId": "0b047126-318f-4080-fd73-dcde06ea30ea"
      },
      "execution_count": null,
      "outputs": [
        {
          "output_type": "stream",
          "name": "stdout",
          "text": [
            "76\n",
            "98\n",
            "39\n",
            "67\n",
            "47\n",
            "Total Marks 327\n",
            "Percentage 65.4\n",
            "Grade:D\n",
            "Dhruv Saxena IT(AIR) First Year (Second Semester)\n"
          ]
        }
      ]
    },
    {
      "cell_type": "code",
      "source": [
        "a=\"A B C D E F G H I J K L M N O P Q R S T U V W X Y Z\"\n",
        "for x in b:\n",
        "  print(a)\n",
        "  break\n",
        "print(\"Dhruv Saxena IT(AIR) First Year (Second Semester)\")"
      ],
      "metadata": {
        "colab": {
          "base_uri": "https://localhost:8080/"
        },
        "id": "txcxkps1e6Yf",
        "outputId": "d24126df-2797-4bd8-f688-3d6789600553"
      },
      "execution_count": null,
      "outputs": [
        {
          "output_type": "stream",
          "name": "stdout",
          "text": [
            "A B C D E F G H I J K L M N O P Q R S T U V W X Y Z\n",
            "Dhruv Saxena IT(AIR) First Year (Second Semester)\n"
          ]
        }
      ]
    },
    {
      "cell_type": "code",
      "source": [
        "a=int(input())\n",
        "for x in range(1,a+1):\n",
        "  if x%3==0:\n",
        "    print(\"hello\")\n",
        "  else:\n",
        "    print(x)\n",
        "print(\"Dhruv Saxena IT(AIR) First Year (Second Semester)\")"
      ],
      "metadata": {
        "colab": {
          "base_uri": "https://localhost:8080/"
        },
        "id": "yRFSST6JlNoh",
        "outputId": "a48706b1-de47-43f6-b1b5-a5b293f83f75"
      },
      "execution_count": null,
      "outputs": [
        {
          "output_type": "stream",
          "name": "stdout",
          "text": [
            "10\n",
            "1\n",
            "2\n",
            "hello\n",
            "4\n",
            "5\n",
            "hello\n",
            "7\n",
            "8\n",
            "hello\n",
            "10\n",
            "Dhruv Saxena IT(AIR) First Year (Second Semester)\n"
          ]
        }
      ]
    },
    {
      "cell_type": "code",
      "source": [
        "a=input()\n",
        "count=0\n",
        "for x in range(len(a)):\n",
        "  if a[x]==\"a\" or a[x]=='e' or a[x]=='i' or a[x]=='o' or a[x]=='u':\n",
        "    count+=1\n",
        "print(count)\n",
        "print(\"Dhruv Saxena IT(AIR) First Year (Second Semester)\")"
      ],
      "metadata": {
        "colab": {
          "base_uri": "https://localhost:8080/"
        },
        "id": "A8xDjVOundFe",
        "outputId": "2257df93-49b3-4a39-b74b-56c8fe0bec59"
      },
      "execution_count": null,
      "outputs": [
        {
          "output_type": "stream",
          "name": "stdout",
          "text": [
            "banana is good for health\n",
            "9\n",
            "Dhruv Saxena IT(AIR) First Year (Second Semester)\n"
          ]
        }
      ]
    },
    {
      "cell_type": "code",
      "source": [
        "a=input()\n",
        "for x in range(len(a)):\n",
        "  if a[x]!='n':\n",
        "    print(a[x],end='')\n",
        "print(\"\\nDhruv Saxena IT(AIR) First Year (Second Semester)\")\n",
        "    \n",
        " "
      ],
      "metadata": {
        "colab": {
          "base_uri": "https://localhost:8080/"
        },
        "id": "Y-psitcipEtb",
        "outputId": "91ae97bc-d9f9-4c59-eecb-6770822e19d1"
      },
      "execution_count": null,
      "outputs": [
        {
          "output_type": "stream",
          "name": "stdout",
          "text": [
            "one\n",
            "oe\n",
            "Dhruv Saxena IT(AIR) First Year (Second Semester)\n"
          ]
        }
      ]
    },
    {
      "cell_type": "code",
      "source": [
        "n=int(input(\"How many numbers you want to enter:\"))\n",
        "a=0\n",
        "b=0\n",
        "c=0\n",
        "for x in range(n):\n",
        "  num=int(input())\n",
        "  if num>0:\n",
        "    a+=1\n",
        "  elif num<0:\n",
        "    b+=1\n",
        "  elif num==0:\n",
        "    c+=1\n",
        "print(\"positive numbers: \",a)\n",
        "print(\"Negative numbers: \",b)\n",
        "print(\"zero numbers:\",c)\n",
        "print(\"Dhruv Saxena IT(AIR) First Year (Second Semester)\")"
      ],
      "metadata": {
        "id": "bj44ScIbnSoD",
        "colab": {
          "base_uri": "https://localhost:8080/"
        },
        "outputId": "129b633f-072e-4f36-a22a-746d7a22d9f7"
      },
      "execution_count": null,
      "outputs": [
        {
          "output_type": "stream",
          "name": "stdout",
          "text": [
            "How many numbers you want to enter:3\n",
            "34\n",
            "36\n",
            "38\n",
            "positive numbers:  3\n",
            "Negative numbers:  0\n",
            "zero numbers: 0\n",
            "Dhruv Saxena IT(AIR) First Year (Second Semester)\n"
          ]
        }
      ]
    },
    {
      "cell_type": "code",
      "source": [
        "n=int(input())\n",
        "b=[]\n",
        "for x in range(n):\n",
        "  a=input()\n",
        "  b.append(a)\n",
        "b.reverse()\n",
        "print(b)\n",
        "print(\"Dhruv Saxena IT(AIR) First Year (Second Semester)\")\n"
      ],
      "metadata": {
        "colab": {
          "base_uri": "https://localhost:8080/"
        },
        "id": "8hhTVAVdK5Py",
        "outputId": "b52e232e-e43b-4fc3-ca1f-24c58154035e"
      },
      "execution_count": null,
      "outputs": [
        {
          "output_type": "stream",
          "name": "stdout",
          "text": [
            "3\n",
            "Cementium\n",
            "Dethous\n",
            "universa\n",
            "['universa', 'Dethous', 'Cementium']\n",
            "Dhruv Saxena IT(AIR) First Year (Second Semester)\n"
          ]
        }
      ]
    },
    {
      "cell_type": "code",
      "source": [
        "a=input()\n",
        "a=a.split()\n",
        "sume=0\n",
        "sumo=0\n",
        "for x in a:\n",
        "  if int(x)%2==0:\n",
        "    sume+=int(x)\n",
        "  if int(x)%2!=0:\n",
        "    sumo+=int(x)\n",
        "print(\"sum_even\",sume)\n",
        "print(\"sum_odd\",sumo)\n",
        "print(\"Dhruv Saxena IT(AIR) First Year (Second Semester)\")\n",
        "\n"
      ],
      "metadata": {
        "colab": {
          "base_uri": "https://localhost:8080/"
        },
        "id": "dcAtcUl1M24t",
        "outputId": "31dd6a18-a3c3-4248-a6d1-64724bb38ce9"
      },
      "execution_count": null,
      "outputs": [
        {
          "output_type": "stream",
          "name": "stdout",
          "text": [
            "10 21 15\n",
            "sum_even 10\n",
            "sum_odd 36\n",
            "Dhruv Saxena IT(AIR) First Year (Second Semester)\n"
          ]
        }
      ]
    },
    {
      "cell_type": "code",
      "source": [
        "n=int(input())\n",
        "a=[]\n",
        "for x in range(n):\n",
        "  a.append(int(input()))\n",
        "for y in range(n):\n",
        "  print(a[y],a[n-y-1])\n",
        "print(\"Dhruv Saxena IT(AIR) First Year (Second Semester)\")\n"
      ],
      "metadata": {
        "colab": {
          "base_uri": "https://localhost:8080/"
        },
        "id": "BRYEWn02RppE",
        "outputId": "95ce689d-e949-4c06-9231-1767acbbe32e"
      },
      "execution_count": null,
      "outputs": [
        {
          "output_type": "stream",
          "name": "stdout",
          "text": [
            "4\n",
            "30\n",
            "23\n",
            "12\n",
            "10\n",
            "30 10\n",
            "23 12\n",
            "12 23\n",
            "10 30\n",
            "Dhruv Saxena IT(AIR) First Year (Second Semester)\n"
          ]
        }
      ]
    },
    {
      "cell_type": "code",
      "source": [
        "n=int(input())\n",
        "a=input()\n",
        "a=a.split()\n",
        "b=set(a)\n",
        "sum=0\n",
        "for x in b:\n",
        "  sum+=1\n",
        "print(sum)\n",
        "print(\"Dhruv Saxena IT(AIR) First Year (Second Semester)\")"
      ],
      "metadata": {
        "colab": {
          "base_uri": "https://localhost:8080/"
        },
        "id": "TrIT_z01TldV",
        "outputId": "77d6fd59-30e8-4d67-b03f-0536923a546c"
      },
      "execution_count": null,
      "outputs": [
        {
          "output_type": "stream",
          "name": "stdout",
          "text": [
            "10\n",
            "1 2 3 1 4 2 5 6 7 8\n",
            "8\n",
            "Dhruv Saxena IT(AIR) First Year (Second Semester)\n"
          ]
        }
      ]
    },
    {
      "cell_type": "code",
      "source": [
        "a=[int(x) for x in input().split()]\n",
        "print(max(a)+min(a))\n",
        "print(\"Dhruv Saxena IT(AIR) First Year (Second Semester)\")"
      ],
      "metadata": {
        "colab": {
          "base_uri": "https://localhost:8080/"
        },
        "id": "MYtAsWzPU-cx",
        "outputId": "bac0a4dd-d5c7-46cb-b1cc-df3971055baa"
      },
      "execution_count": null,
      "outputs": [
        {
          "output_type": "stream",
          "name": "stdout",
          "text": [
            "10 23 14 25\n",
            "35\n",
            "Dhruv Saxena IT(AIR) First Year (Second Semester)\n"
          ]
        }
      ]
    },
    {
      "cell_type": "code",
      "source": [
        "#fibonacci series\n",
        "n=int(input())\n",
        "a=[1,1]\n",
        "for x in range(n-2):\n",
        "  a.append(a[x]+a[x+1])\n",
        "for y in a:\n",
        "  print(y,end=' ')\n",
        "  \n"
      ],
      "metadata": {
        "colab": {
          "base_uri": "https://localhost:8080/"
        },
        "id": "l9YXfyFoJRvp",
        "outputId": "67aabbde-f2a6-4f64-c0af-889800114099"
      },
      "execution_count": null,
      "outputs": [
        {
          "output_type": "stream",
          "name": "stdout",
          "text": [
            "7\n",
            "1 1 2 3 5 8 13 "
          ]
        }
      ]
    },
    {
      "cell_type": "code",
      "source": [
        "a=12\n",
        "print(f\"{a:.2f}%\")"
      ],
      "metadata": {
        "colab": {
          "base_uri": "https://localhost:8080/"
        },
        "id": "CpT-ZVIJEqaD",
        "outputId": "53c6e58d-24c2-46c0-8a2e-dec46c9b7e79"
      },
      "execution_count": null,
      "outputs": [
        {
          "output_type": "stream",
          "name": "stdout",
          "text": [
            "12.00%\n"
          ]
        }
      ]
    },
    {
      "cell_type": "code",
      "source": [
        "def data(*val):\n",
        "  a=0\n",
        "  b=0\n",
        "  c=0\n",
        "  for x in val:\n",
        "    if type(x)==int:\n",
        "      a+=1\n",
        "    elif type(x)==str:\n",
        "      b+=1\n",
        "    elif type(x)==float:\n",
        "      c+=1\n",
        "  print(\"int\",a)\n",
        "  print(\"str\",b)\n",
        "  print(\"float\",c)\n",
        "data(10,\"Dhruv\",2.0)\n",
        "      "
      ],
      "metadata": {
        "colab": {
          "base_uri": "https://localhost:8080/"
        },
        "id": "GX6x-PBLJn9e",
        "outputId": "22dcc7c2-5a85-45b8-ce49-f0d0b452917d"
      },
      "execution_count": null,
      "outputs": [
        {
          "output_type": "stream",
          "name": "stdout",
          "text": [
            "int 1\n",
            "str 1\n",
            "float 1\n"
          ]
        }
      ]
    },
    {
      "cell_type": "code",
      "source": [
        "import matplotlib.pyplot as pl\n",
        "a=[1,2,3,4]\n",
        "b=[2,4,5,6]\n",
        "pl.plot(a,b,marker=\"*\",color=\"red\")\n",
        "pl.show()\n"
      ],
      "metadata": {
        "colab": {
          "base_uri": "https://localhost:8080/",
          "height": 265
        },
        "id": "0hA-5CTgO-0I",
        "outputId": "922c5e78-0af3-4e76-d1c7-42b320df246b"
      },
      "execution_count": null,
      "outputs": [
        {
          "output_type": "display_data",
          "data": {
            "text/plain": [
              "<Figure size 432x288 with 1 Axes>"
            ],
            "image/png": "[encoded data removed]"
          },
          "metadata": {
            "needs_background": "light"
          }
        }
      ]
    },
    {
      "cell_type": "code",
      "source": [
        "d={}\n",
        "for x in range(int(input())):\n",
        "  name=input(\"input Name\")\n",
        "  values=int(input(\"enter the number\"))\n",
        "  d[name]=values\n",
        "print(d)\n",
        "a=[]\n",
        "a.insert(2,\"a\")\n"
      ],
      "metadata": {
        "colab": {
          "base_uri": "https://localhost:8080/"
        },
        "id": "M6LBkPA9P9sr",
        "outputId": "88dc39c7-b352-47ca-be19-675d6915124e"
      },
      "execution_count": null,
      "outputs": [
        {
          "output_type": "stream",
          "name": "stdout",
          "text": [
            "2\n",
            "input Namedhrruv\n",
            "enter the number20\n",
            "input Nameappy\n",
            "enter the number30\n",
            "{'dhrruv': 20, 'appy': 30}\n"
          ]
        }
      ]
    },
    {
      "cell_type": "code",
      "source": [
        "def sum():\n",
        "  sum=0\n",
        "  for x in range(5):\n",
        "    a=eval(input())\n",
        "    sum+=a\n",
        "  print(\"total Money collected is\",sum)\n",
        "sum()\n",
        "print(\"Dhruv Saxena IT(AIR) First Year (Second Semester)\")"
      ],
      "metadata": {
        "colab": {
          "base_uri": "https://localhost:8080/"
        },
        "id": "f8nxsatRzDHH",
        "outputId": "ab378953-02f0-4064-f3cf-db4a32ea7cfa"
      },
      "execution_count": null,
      "outputs": [
        {
          "output_type": "stream",
          "name": "stdout",
          "text": [
            "10\n",
            "20\n",
            "20\n",
            "100\n",
            "50\n",
            "total Money collected is 200\n",
            "Dhruv Saxena IT(AIR) First Year (Second Semester)\n"
          ]
        }
      ]
    },
    {
      "cell_type": "code",
      "source": [
        "import calendar as cl\n",
        "a=int(input(\"year\"))\n",
        "for x in range(1,8,2):\n",
        "  print(cl.month(a,x))\n",
        "for y in range(8,13,2):\n",
        "  print(cl.month(a,y))\n",
        "print(\"Dhruv Saxena IT(AIR) First Year (Second Semester)\")\n"
      ],
      "metadata": {
        "colab": {
          "base_uri": "https://localhost:8080/"
        },
        "id": "mxxBx06rz910",
        "outputId": "195cc183-054b-43f6-afbe-262e53a50149"
      },
      "execution_count": null,
      "outputs": [
        {
          "output_type": "stream",
          "name": "stdout",
          "text": [
            "year2020\n",
            "    January 2020\n",
            "Mo Tu We Th Fr Sa Su\n",
            "       1  2  3  4  5\n",
            " 6  7  8  9 10 11 12\n",
            "13 14 15 16 17 18 19\n",
            "20 21 22 23 24 25 26\n",
            "27 28 29 30 31\n",
            "\n",
            "     March 2020\n",
            "Mo Tu We Th Fr Sa Su\n",
            "                   1\n",
            " 2  3  4  5  6  7  8\n",
            " 9 10 11 12 13 14 15\n",
            "16 17 18 19 20 21 22\n",
            "23 24 25 26 27 28 29\n",
            "30 31\n",
            "\n",
            "      May 2020\n",
            "Mo Tu We Th Fr Sa Su\n",
            "             1  2  3\n",
            " 4  5  6  7  8  9 10\n",
            "11 12 13 14 15 16 17\n",
            "18 19 20 21 22 23 24\n",
            "25 26 27 28 29 30 31\n",
            "\n",
            "     July 2020\n",
            "Mo Tu We Th Fr Sa Su\n",
            "       1  2  3  4  5\n",
            " 6  7  8  9 10 11 12\n",
            "13 14 15 16 17 18 19\n",
            "20 21 22 23 24 25 26\n",
            "27 28 29 30 31\n",
            "\n",
            "    August 2020\n",
            "Mo Tu We Th Fr Sa Su\n",
            "                1  2\n",
            " 3  4  5  6  7  8  9\n",
            "10 11 12 13 14 15 16\n",
            "17 18 19 20 21 22 23\n",
            "24 25 26 27 28 29 30\n",
            "31\n",
            "\n",
            "    October 2020\n",
            "Mo Tu We Th Fr Sa Su\n",
            "          1  2  3  4\n",
            " 5  6  7  8  9 10 11\n",
            "12 13 14 15 16 17 18\n",
            "19 20 21 22 23 24 25\n",
            "26 27 28 29 30 31\n",
            "\n",
            "   December 2020\n",
            "Mo Tu We Th Fr Sa Su\n",
            "    1  2  3  4  5  6\n",
            " 7  8  9 10 11 12 13\n",
            "14 15 16 17 18 19 20\n",
            "21 22 23 24 25 26 27\n",
            "28 29 30 31\n",
            "\n",
            "Dhruv Saxena IT(AIR) First Year (Second Semester)\n"
          ]
        }
      ]
    },
    {
      "cell_type": "code",
      "source": [
        "a=int(input())\n",
        "if a%2==0:\n",
        "  print(\"even roll number set 2 is given\")\n",
        "elif a%2!=0:\n",
        "  print(\"odd roll number set 1 is given\")\n",
        "print(\"Dhruv Saxena IT(AIR) First Year (Second Semester)\")"
      ],
      "metadata": {
        "colab": {
          "base_uri": "https://localhost:8080/"
        },
        "id": "ClHGwOIi3NLO",
        "outputId": "12421676-9f91-430c-8f00-3e04b56450ed"
      },
      "execution_count": null,
      "outputs": [
        {
          "output_type": "stream",
          "name": "stdout",
          "text": [
            "12\n",
            "even roll number set 2 is given\n",
            "Dhruv Saxena IT(AIR) First Year (Second Semester)\n"
          ]
        }
      ]
    },
    {
      "cell_type": "code",
      "source": [
        "def director_cut():\n",
        "  b=[]\n",
        "  a=None\n",
        "\n",
        "  while(a!=\"cut\"):\n",
        "    a=input()\n",
        "    b.append(a)\n",
        "  b.pop()\n",
        "  print(b)\n",
        "director_cut()\n",
        "print(\"Dhruv Saxena IT(AIR) First Year (Second Semester)\")\n"
      ],
      "metadata": {
        "colab": {
          "base_uri": "https://localhost:8080/"
        },
        "id": "FwBaqRNr4c4I",
        "outputId": "d218a247-7f33-4b25-ab7f-85f14750493d"
      },
      "execution_count": null,
      "outputs": [
        {
          "output_type": "stream",
          "name": "stdout",
          "text": [
            "PS I love you\n",
            "coco\n",
            "sholay\n",
            "cut\n",
            "['PS I love you', 'coco', 'sholay']\n",
            "Dhruv Saxena IT(AIR) First Year (Second Semester)\n"
          ]
        }
      ]
    },
    {
      "cell_type": "code",
      "source": [
        "a=int(input())\n",
        "b=0\n",
        "c=[]\n",
        "d=1\n",
        "e=[]\n",
        "f=[]\n",
        "g=[]\n",
        "if a%2==0:\n",
        "  for x in  range(2,10):\n",
        "    if a%x==0:\n",
        "      b=a//x\n",
        "      a=b\n",
        "      c.append(x)\n",
        "  \n",
        "\n",
        "  for y in range(len(c)):\n",
        "    if c[y]%2==0:\n",
        "      e.append(c[y])\n",
        "  else:\n",
        "      g.append(c[y])\n",
        "  for z in e:\n",
        "    d*=z\n",
        "  \n",
        "  f.append(d)\n",
        "  f.extend(g)\n",
        "  f.append(5)\n",
        "\n",
        "  f.sort()\n",
        "  for q in f:\n",
        "    print(q,end='')\n",
        "else:\n",
        "  print(-1)\n",
        "print(\"\\nDhruv Saxena IT(AIR) First Year (Second Semester)\")"
      ],
      "metadata": {
        "colab": {
          "base_uri": "https://localhost:8080/"
        },
        "id": "Wl-abQ829_gT",
        "outputId": "5da5fbe7-16f5-4778-8bd7-09c8970873fd"
      },
      "execution_count": null,
      "outputs": [
        {
          "output_type": "stream",
          "name": "stdout",
          "text": [
            "200\n",
            "558\n",
            "Dhruv Saxena IT(AIR) First Year (Second Semester)\n"
          ]
        }
      ]
    },
    {
      "cell_type": "code",
      "source": [
        "import statistics as st\n",
        "a=[]\n",
        "n=int(input())\n",
        "for x in range(n):\n",
        "  a.append(int(input()))\n",
        "print(\"deviation is \",st.pstdev(a))\n",
        "print(\"Low median is \",st.median_low(a))\n",
        "print(\"High Median is \",st.median_high(a))\n",
        "print(\"Dhruv Saxena IT(AIR) First Year (Second Semester)\")\n"
      ],
      "metadata": {
        "colab": {
          "base_uri": "https://localhost:8080/"
        },
        "id": "ZCUWyrAnpOzG",
        "outputId": "f1cbdb04-c590-4754-80e6-ba83fd58d0de"
      },
      "execution_count": null,
      "outputs": [
        {
          "output_type": "stream",
          "name": "stdout",
          "text": [
            "5\n",
            "7\n",
            "8\n",
            "9\n",
            "10\n",
            "11\n",
            "deviation is  1.4142135623730951\n",
            "Low median is  9\n",
            "High Median is  9\n",
            "Dhruv Saxena IT(AIR) First Year (Second Semester)\n"
          ]
        }
      ]
    },
    {
      "cell_type": "code",
      "source": [
        "a=input()\n",
        "a=a.split()\n",
        "b=input(\"enter word for find  \")\n",
        "if b in a:\n",
        "  print(\"Exist\")\n",
        "else:\n",
        "  print(\"not exist\")\n",
        "print(\"Dhruv Saxena IT(AIR) First Year (Second Semester)\")\n",
        "\n"
      ],
      "metadata": {
        "colab": {
          "base_uri": "https://localhost:8080/"
        },
        "id": "PEu65o33rYR4",
        "outputId": "5b7f689f-3629-4847-fcb0-d3e668a47685"
      },
      "execution_count": null,
      "outputs": [
        {
          "output_type": "stream",
          "name": "stdout",
          "text": [
            "I have a book of python\n",
            "enter word for find  java\n",
            "not exist\n",
            "Dhruv Saxena IT(AIR) First Year (Second Semester)\n"
          ]
        }
      ]
    },
    {
      "cell_type": "code",
      "source": [
        "def rt(*dhruv):\n",
        "  print(\"hello world\"+dhruv[2])\n",
        "rt(\"hello\",\"bhai\",\"Tony\")"
      ],
      "metadata": {
        "id": "xQ6hIbwaniUz",
        "colab": {
          "base_uri": "https://localhost:8080/"
        },
        "outputId": "34691c46-2c7f-4a61-c1b4-d504764a35aa"
      },
      "execution_count": null,
      "outputs": [
        {
          "output_type": "stream",
          "name": "stdout",
          "text": [
            "hello worldTony\n"
          ]
        }
      ]
    }
  ]
}