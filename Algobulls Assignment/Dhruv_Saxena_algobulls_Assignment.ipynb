{
  "nbformat": 4,
  "nbformat_minor": 0,
  "metadata": {
    "colab": {
      "provenance": []
    },
    "kernelspec": {
      "name": "python3",
      "display_name": "Python 3"
    },
    "language_info": {
      "name": "python"
    }
  },
  "cells": [
    {
      "cell_type": "code",
      "execution_count": null,
      "metadata": {
        "id": "4hcw8UX0RRP-"
      },
      "outputs": [],
      "source": [
        "#Q1 Solution\n",
        "import requests\n",
        "import pandas as pd\n",
        "\n",
        "class StockData:\n",
        "    API_KEY = \"ZP73Q3Y1268DQA3T\"\n",
        "    BASE_URL = \"https://www.alphavantage.co/query?function=TIME_SERIES_INTRADAY&symbol={}&interval=1min&apikey={}\"\n",
        "\n",
        "    def __init__(self):\n",
        "        self.intraday_data = {}\n",
        "    \n",
        "    def fetch_intraday_data(self, script):\n",
        "        url = self.BASE_URL.format(script, self.API_KEY)\n",
        "        response = requests.get(url)\n",
        "        self.intraday_data[script] = response.json()\n",
        "    \n",
        "    def convert_intraday_data(self, script):\n",
        "        data = self.intraday_data[script]\n",
        "        time_series = data[\"Time Series (1min)\"]\n",
        "        df = pd.DataFrame.from_dict({timestamp: {\n",
        "            \"open\": float(row[\"1. open\"]),\n",
        "            \"high\": float(row[\"2. high\"]),\n",
        "            \"low\": float(row[\"3. low\"]),\n",
        "            \"close\": float(row[\"4. close\"]),\n",
        "            \"volume\": int(row[\"5. volume\"])\n",
        "        } for timestamp, row in time_series.items()}, orient=\"index\")\n",
        "        df.index = pd.to_datetime(df.index)\n",
        "        self.intraday_data[script] = df\n",
        "    \n",
        "    def __getitem__(self, script):\n",
        "        return self.intraday_data[script]\n",
        "    \n",
        "    def __setitem__(self, script, data):\n",
        "        self.intraday_data[script] = data\n",
        "    \n",
        "    def __contains__(self, script):\n",
        "        return script in self.intraday_data\n"
      ]
    },
    {
      "cell_type": "code",
      "source": [
        "# Q2 Solution\n",
        "def indicator1(df, timeperiod):\n",
        "    return pd.DataFrame({\n",
        "        \"timestamp\": df.index,\n",
        "        \"indicator\": df[\"close\"].rolling(timeperiod).mean()\n",
        "    })\n"
      ],
      "metadata": {
        "id": "4bmimMfaSKMf"
      },
      "execution_count": null,
      "outputs": []
    },
    {
      "cell_type": "code",
      "source": [
        "# Q3 Solution\n",
        "class Strategy:\n",
        "    def __init__(self, script_data, script_name):\n",
        "        self.script_data = script_data\n",
        "        self.script_name = script_name\n",
        "\n",
        "    def fetch_intraday_data(self):\n",
        "        self.df = self.script_data.fetch_intraday_data(self.script_name)\n",
        "        self.close_data = self.df[\"close\"]\n",
        "\n",
        "    def compute_indicator_data(self, timeperiod):\n",
        "        self.indicator_data = indicator1(self.df, timeperiod)[\"indicator\"]\n",
        "\n",
        "    def generate_signals(self):\n",
        "        signals = []\n",
        "        for i in range(1, len(self.df)):\n",
        "            if self.indicator_data[i] > self.close_data[i] and self.indicator_data[i - 1] <= self.close_data[i - 1]:\n",
        "                signals.append(\"BUY\")\n",
        "            elif self.indicator_data[i] < self.close_data[i] and self.indicator_data[i - 1] >= self.close_data[i - 1]:\n",
        "                signals.append(\"SELL\")\n",
        "            else:\n",
        "                signals.append(\"NO_SIGNAL\")\n",
        "        self.signals = pd.DataFrame({\n",
        "            \"timestamp\": self.df.index[1:],\n",
        "            \"signal\": signals\n",
        "        })\n",
        "\n",
        "    def print_signals(self):\n",
        "        print(self.signals[self.signals[\"signal\"].isin([\"BUY\", \"SELL\"])])\n"
      ],
      "metadata": {
        "id": "1EsFx1_kSVAi"
      },
      "execution_count": null,
      "outputs": []
    }
  ]
}