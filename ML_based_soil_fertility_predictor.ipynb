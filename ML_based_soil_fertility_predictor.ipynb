{
  "nbformat": 4,
  "nbformat_minor": 0,
  "metadata": {
    "colab": {
      "provenance": [],
      "authorship_tag": "ABX9TyNCcZNR/uIc6POAgabqcA8D",
      "include_colab_link": true
    },
    "kernelspec": {
      "name": "python3",
      "display_name": "Python 3"
    },
    "language_info": {
      "name": "python"
    }
  },
  "cells": [
    {
      "cell_type": "markdown",
      "metadata": {
        "id": "view-in-github",
        "colab_type": "text"
      },
      "source": [
        "<a href=\"https://colab.research.google.com/github/dhruvsaxena11/Dhruv-Saxena/blob/My-Data/ML_based_soil_fertility_predictor.ipynb\" target=\"_parent\"><img src=\"https://colab.research.google.com/assets/colab-badge.svg\" alt=\"Open In Colab\"/></a>"
      ]
    },
    {
      "cell_type": "code",
      "execution_count": 1,
      "metadata": {
        "colab": {
          "base_uri": "https://localhost:8080/"
        },
        "id": "59cwkWelDFGb",
        "outputId": "975bf18f-907b-4ad4-e2f7-40e11621161a"
      },
      "outputs": [
        {
          "output_type": "stream",
          "name": "stdout",
          "text": [
            "0       20\n",
            "1       20\n",
            "2       20\n",
            "3       20\n",
            "4       20\n",
            "        ..\n",
            "2195     5\n",
            "2196     5\n",
            "2197     5\n",
            "2198     5\n",
            "2199     5\n",
            "Name: target, Length: 2200, dtype: int8\n"
          ]
        }
      ],
      "source": [
        "import pandas as pd\n",
        "a=pd.read_csv(\"https://raw.githubusercontent.com/dhruvsaxena11/Dhruv-Saxena/My-Data/Datasets/crop.csv\")\n",
        "a[\"target\"]=pd.Categorical(a[\"label\"]).codes\n",
        "print(a.target)"
      ]
    },
    {
      "cell_type": "code",
      "source": [
        "print(a.columns)\n",
        "\n",
        "x=a.iloc[0:,:-4]\n",
        "y=a.iloc[0:,-1:]\n",
        "print(x)\n",
        "print(y)"
      ],
      "metadata": {
        "colab": {
          "base_uri": "https://localhost:8080/"
        },
        "id": "iG1YaasCp_l2",
        "outputId": "3406b5e1-596b-4ab5-d384-30ad0002dcba"
      },
      "execution_count": 2,
      "outputs": [
        {
          "output_type": "stream",
          "name": "stdout",
          "text": [
            "Index(['N', 'P', 'K', 'temperature', 'humidity', 'ph', 'rainfall', 'label',\n",
            "       'target'],\n",
            "      dtype='object')\n",
            "        N   P   K  temperature   humidity\n",
            "0      90  42  43    20.879744  82.002744\n",
            "1      85  58  41    21.770462  80.319644\n",
            "2      60  55  44    23.004459  82.320763\n",
            "3      74  35  40    26.491096  80.158363\n",
            "4      78  42  42    20.130175  81.604873\n",
            "...   ...  ..  ..          ...        ...\n",
            "2195  107  34  32    26.774637  66.413269\n",
            "2196   99  15  27    27.417112  56.636362\n",
            "2197  118  33  30    24.131797  67.225123\n",
            "2198  117  32  34    26.272418  52.127394\n",
            "2199  104  18  30    23.603016  60.396475\n",
            "\n",
            "[2200 rows x 5 columns]\n",
            "      target\n",
            "0         20\n",
            "1         20\n",
            "2         20\n",
            "3         20\n",
            "4         20\n",
            "...      ...\n",
            "2195       5\n",
            "2196       5\n",
            "2197       5\n",
            "2198       5\n",
            "2199       5\n",
            "\n",
            "[2200 rows x 1 columns]\n"
          ]
        }
      ]
    },
    {
      "cell_type": "code",
      "source": [
        "from sklearn.model_selection import train_test_split\n",
        "X_train, X_test, y_train, y_test = train_test_split(x, y, test_size=0.2)\n",
        "print(X_test)\n",
        "print(y_test)"
      ],
      "metadata": {
        "colab": {
          "base_uri": "https://localhost:8080/"
        },
        "id": "FQUiDeuLtdzL",
        "outputId": "26a01582-2cb0-4f28-9dbf-21ef0eedb219"
      },
      "execution_count": 3,
      "outputs": [
        {
          "output_type": "stream",
          "name": "stdout",
          "text": [
            "        N   P   K  temperature   humidity\n",
            "112    62  52  16    22.275267  58.840159\n",
            "1672   20  20  10    11.866319  93.683946\n",
            "2149   82  29  35    26.673772  52.242263\n",
            "51     76  60  39    20.045414  80.347756\n",
            "1322  120  19  49    25.794489  84.268307\n",
            "...   ...  ..  ..          ...        ...\n",
            "313    25  60  22    21.631491  21.179197\n",
            "1704   31  68  45    42.923253  90.076005\n",
            "1036  117  79  49    25.409099  82.362081\n",
            "1019  117  86  48    28.695620  82.541958\n",
            "181    68  40  19    26.143840  66.205699\n",
            "\n",
            "[440 rows x 5 columns]\n",
            "      target\n",
            "112       11\n",
            "1672      16\n",
            "2149       5\n",
            "51        20\n",
            "1322      21\n",
            "...      ...\n",
            "313        9\n",
            "1704      17\n",
            "1036       1\n",
            "1019       1\n",
            "181       11\n",
            "\n",
            "[440 rows x 1 columns]\n"
          ]
        }
      ]
    },
    {
      "cell_type": "code",
      "source": [
        "from sklearn.linear_model import LogisticRegression\n",
        "model=LogisticRegression()\n",
        "model.fit(X_train,y_train)\n",
        "\n"
      ],
      "metadata": {
        "colab": {
          "base_uri": "https://localhost:8080/"
        },
        "id": "FlIfbFfNvd-n",
        "outputId": "8f71c763-522a-4313-ce8f-973d60a48c1b"
      },
      "execution_count": 4,
      "outputs": [
        {
          "output_type": "stream",
          "name": "stderr",
          "text": [
            "/usr/local/lib/python3.8/dist-packages/sklearn/utils/validation.py:993: DataConversionWarning: A column-vector y was passed when a 1d array was expected. Please change the shape of y to (n_samples, ), for example using ravel().\n",
            "  y = column_or_1d(y, warn=True)\n",
            "/usr/local/lib/python3.8/dist-packages/sklearn/linear_model/_logistic.py:814: ConvergenceWarning: lbfgs failed to converge (status=1):\n",
            "STOP: TOTAL NO. of ITERATIONS REACHED LIMIT.\n",
            "\n",
            "Increase the number of iterations (max_iter) or scale the data as shown in:\n",
            "    https://scikit-learn.org/stable/modules/preprocessing.html\n",
            "Please also refer to the documentation for alternative solver options:\n",
            "    https://scikit-learn.org/stable/modules/linear_model.html#logistic-regression\n",
            "  n_iter_i = _check_optimize_result(\n"
          ]
        },
        {
          "output_type": "execute_result",
          "data": {
            "text/plain": [
              "LogisticRegression()"
            ]
          },
          "metadata": {},
          "execution_count": 4
        }
      ]
    },
    {
      "cell_type": "code",
      "source": [
        "ans=model.predict([[2.2,12.4,18.7,10.4,2.45]])\n",
        "anser=pd.Categorical(a['label']).categories[ans[0]]\n",
        "print(model.score(X_test,y_test))\n",
        "print(anser)"
      ],
      "metadata": {
        "colab": {
          "base_uri": "https://localhost:8080/"
        },
        "id": "Mce3SQgywdpm",
        "outputId": "00b1fcdc-5444-4a85-a5eb-14bfdc84d2f8"
      },
      "execution_count": 5,
      "outputs": [
        {
          "output_type": "stream",
          "name": "stdout",
          "text": [
            "0.8613636363636363\n",
            "grapes\n"
          ]
        },
        {
          "output_type": "stream",
          "name": "stderr",
          "text": [
            "/usr/local/lib/python3.8/dist-packages/sklearn/base.py:450: UserWarning: X does not have valid feature names, but LogisticRegression was fitted with feature names\n",
            "  warnings.warn(\n"
          ]
        }
      ]
    },
    {
      "cell_type": "code",
      "source": [
        "from sklearn.ensemble import RandomForestClassifier\n",
        "rd=RandomForestClassifier()\n",
        "rd.fit(X_train,y_train)\n",
        "rd.score(X_test,y_test)\n",
        "ds=rd.predict([[30.2,40,23.3,37.5,576.87]])\n",
        "ans2=pd.Categorical(a['label']).categories[ds[0]]\n",
        "ans2"
      ],
      "metadata": {
        "id": "bVSCkCKk6dHZ"
      },
      "execution_count": null,
      "outputs": []
    },
    {
      "cell_type": "code",
      "source": [
        "from sklearn.tree import DecisionTreeClassifier\n",
        "dt = DecisionTreeClassifier()\n",
        "dt.fit(X_train,y_train)\n",
        "dt.score(X_test,y_test)"
      ],
      "metadata": {
        "colab": {
          "base_uri": "https://localhost:8080/"
        },
        "id": "Sre66Hfh7cnu",
        "outputId": "fa30f864-d479-4540-d35d-0991d87f676d"
      },
      "execution_count": 7,
      "outputs": [
        {
          "output_type": "execute_result",
          "data": {
            "text/plain": [
              "0.9340909090909091"
            ]
          },
          "metadata": {},
          "execution_count": 7
        }
      ]
    },
    {
      "cell_type": "code",
      "source": [
        "import pandas as pd\n",
        "from sklearn.preprocessing import LabelEncoder\n",
        "from sklearn.ensemble import RandomForestClassifier\n",
        "rfc=RandomForestClassifier(n_estimators= 20, criterion=\"entropy\")\n",
        "import matplotlib.pyplot as plt\n",
        "df=pd.read_csv(\"https://raw.githubusercontent.com/dhruvsaxena11/Dhruv-Saxena/My-Data/Datasets/crop.csv\")\n",
        "df.insert(0, 'SNo', range(0, 0 + len(df)))\n",
        "le= LabelEncoder()\n",
        "df[\"label\"]=le.fit_transform(df['label'])\n",
        "\n",
        "print(le.classes_,df[\"label\"].unique())\n",
        "df2=pd.read_csv(\"https://raw.githubusercontent.com/dhruvsaxena11/Dhruv-Saxena/My-Data/Datasets/crop.csv\")\n",
        "df2.insert(0, 'SNo', range(0, 0 + len(df)))\n",
        "\n",
        "\n",
        "#rfc2=RandomForestClassifier(n_estimators= 20, criterion=\"entropy\")"
      ],
      "metadata": {
        "id": "zgygnM0g6sPJ",
        "colab": {
          "base_uri": "https://localhost:8080/"
        },
        "outputId": "0244ee66-3ced-429c-8bf0-e741c028d1c5"
      },
      "execution_count": 8,
      "outputs": [
        {
          "output_type": "stream",
          "name": "stdout",
          "text": [
            "['apple' 'banana' 'blackgram' 'chickpea' 'coconut' 'coffee' 'cotton'\n",
            " 'grapes' 'jute' 'kidneybeans' 'lentil' 'maize' 'mango' 'mothbeans'\n",
            " 'mungbean' 'muskmelon' 'orange' 'papaya' 'pigeonpeas' 'pomegranate'\n",
            " 'rice' 'watermelon'] [20 11  3  9 18 13 14  2 10 19  1 12  7 21 15  0 16 17  4  6  8  5]\n"
          ]
        }
      ]
    },
    {
      "cell_type": "code",
      "source": [
        "x=df.iloc[0:,1:]\n",
        "y=df[\"SNo\"]\n"
      ],
      "metadata": {
        "id": "xAkZjNpwoVSU"
      },
      "execution_count": 9,
      "outputs": []
    },
    {
      "cell_type": "code",
      "source": [
        "from sklearn.model_selection import train_test_split\n",
        "X_train, X_test, y_train, y_test = train_test_split(x, y, test_size=0.6, random_state=1)\n"
      ],
      "metadata": {
        "id": "ABy8zgWJpajw"
      },
      "execution_count": null,
      "outputs": []
    },
    {
      "cell_type": "code",
      "source": [
        "rfc.fit(X_train,y_train)       "
      ],
      "metadata": {
        "id": "O_Q0gQyHpfas"
      },
      "execution_count": null,
      "outputs": []
    },
    {
      "cell_type": "code",
      "source": [
        "r=rfc.predict([[90,42,43,20.87,82.002,96.502985292000001,22.9355362,2]])\n",
        "df2[[\"N\",\"P\",\"K\",\"temperature\",\"humidity\"]][df2[\"SNo\"]==r[0]]"
      ],
      "metadata": {
        "id": "Or8FbOMKqJJW"
      },
      "execution_count": null,
      "outputs": []
    },
    {
      "cell_type": "code",
      "source": [],
      "metadata": {
        "id": "n2_etvpZwVKj"
      },
      "execution_count": null,
      "outputs": []
    }
  ]
}